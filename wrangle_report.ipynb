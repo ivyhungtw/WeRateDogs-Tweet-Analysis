{
 "cells": [
  {
   "cell_type": "markdown",
   "metadata": {},
   "source": [
    "# Wrangle Report for WeRateDogs Tweet Analysis Project"
   ]
  },
  {
   "cell_type": "markdown",
   "metadata": {},
   "source": [
    "This report is to summarize the wrangling efforts I took for the WeRateDog Tweet Analysis project."
   ]
  },
  {
   "cell_type": "markdown",
   "metadata": {},
   "source": [
    "## Table of Contents\n",
    "- [Source](#source)\n",
    "- [Gathering Data](#gather)\n",
    "- [Asseeing Data](#assess)\n",
    "- [Cleaning Data](#clean)\n",
    "- [Storing Data](#store)"
   ]
  },
  {
   "cell_type": "markdown",
   "metadata": {},
   "source": [
    "<a id='source'></a>\n",
    "## Source"
   ]
  },
  {
   "cell_type": "markdown",
   "metadata": {},
   "source": [
    "The data I used for this project came form three different sources:\n",
    "* The WeRateDogs Twitter archive\n",
    "* The tweet image predictions according to a neural network\n",
    "* Twitter API for additional tweet data "
   ]
  },
  {
   "cell_type": "markdown",
   "metadata": {},
   "source": [
    "<a id='gather'></a>\n",
    "## Gathering Data"
   ]
  },
  {
   "cell_type": "markdown",
   "metadata": {},
   "source": [
    "I collected data from the sources above and converted them into three DataFrames.\n",
    "\n",
    "##### df_twitter_archive\n",
    "* Used *pandas.read_csv* function to read a on-hand file `twitter-archive-enhanced.csv` into DataFrame.\n",
    "\n",
    "##### df_image_predictions\n",
    "* Downloaded `image_predictions.tsv` from Udacity's servers using *Requests* library and wrote it into a file.\n",
    "* Used *pandas.read_csv* function with the seperator denoted as tab to read it into Dataframe.\n",
    "\n",
    "##### df_tweet\n",
    "* Queried the Twitter API for each tweet's JSON data using Python's *Tweepy* library and stored each tweet's entire set of JSON data in a file called `tweet_json.txt` file.\n",
    "* Used *Json* library and *pandas.DataFrame* function to read it line by line into DataFrame with tweet ID, retweet count, and favorite count.  "
   ]
  },
  {
   "cell_type": "markdown",
   "metadata": {},
   "source": [
    "<a id='assess'></a>\n",
    "## Assessing Data"
   ]
  },
  {
   "cell_type": "markdown",
   "metadata": {},
   "source": [
    "I used visual and programmatic assesment to assess three DataFrames gathered before for quality and tidiness issues.\n",
    "\n",
    "##### Visual Assessment\n",
    "* Scrolled through the data in the jupyter notebook.\n",
    "\n",
    "##### Programmatic Assessment\n",
    "* Uesd Pandas' *sample*, *info*, *query*, *describe*, *value_counts* methods to view specific portion and summaries of the data.\n",
    "\n",
    "After assessing, I recorded all the issues in a list and classified them as quality or tidiness issue."
   ]
  },
  {
   "cell_type": "markdown",
   "metadata": {},
   "source": [
    "<a id='clean'></a>\n",
    "## Cleaning Data"
   ]
  },
  {
   "cell_type": "markdown",
   "metadata": {},
   "source": [
    "First, I made the copies of the original pieces of data before cleaning. Then I cleaned each of the issues recorded in the assessing section. For each issue, I broke the process down into three steps: define, code, and test.\n",
    "\n",
    "##### Reassess and Iterate\n",
    "When cleaning the issues that I found in the first time assessing the data, I recongized additional issues. Therefore, I reassessed the data and cleaned them again. For example, after combining prediction of dog breed into one column in the `image_predictions_clean` table and merging it to  `df_twitter_archive`  table, I realized that some tweets don't have dog but other animals in the images. So, I reassessed those tweets and then dropped them in the cleaning stage."
   ]
  },
  {
   "cell_type": "markdown",
   "metadata": {},
   "source": [
    "<a id='store'></a>\n",
    "## Storing Data"
   ]
  },
  {
   "cell_type": "markdown",
   "metadata": {},
   "source": [
    "After cleaning the data, I stored `df_twitter_archive` DataFrame in a CSV file named `twitter_archive_master.csv` which would be used for analyzation."
   ]
  }
 ],
 "metadata": {
  "kernelspec": {
   "display_name": "Python 3",
   "language": "python",
   "name": "python3"
  },
  "language_info": {
   "codemirror_mode": {
    "name": "ipython",
    "version": 3
   },
   "file_extension": ".py",
   "mimetype": "text/x-python",
   "name": "python",
   "nbconvert_exporter": "python",
   "pygments_lexer": "ipython3",
   "version": "3.7.6"
  }
 },
 "nbformat": 4,
 "nbformat_minor": 4
}
